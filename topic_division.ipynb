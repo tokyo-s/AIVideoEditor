{
 "cells": [
  {
   "cell_type": "code",
   "execution_count": 8,
   "metadata": {},
   "outputs": [],
   "source": [
    "import os\n",
    "import openai\n",
    "import config\n",
    "\n",
    "os.environ['OPENAI_API_KEY'] = config.api_key\n",
    "\n",
    "openai.api_key = os.getenv(\"OPENAI_API_KEY\")\n",
    "\n",
    "def test_question(prompt_final):\n",
    "    response = openai.Completion.create(\n",
    "  model=\"text-davinci-003\",\n",
    "  prompt= prompt_final,   #Tl;dr\n",
    "  temperature=0.5,\n",
    "  max_tokens=300,\n",
    "  top_p=1.0,\n",
    "  frequency_penalty=0.0,\n",
    "  presence_penalty=1\n",
    ")\n",
    "    return response['choices'][0]['text']"
   ]
  },
  {
   "cell_type": "code",
   "execution_count": 11,
   "metadata": {},
   "outputs": [
    {
     "data": {
      "text/plain": [
       "'\\n\\nTopic 1: Car Crash and First Date \\nEnd Margin: Callin\\' my dad when I wanna hear some wisdom\\n\\nTopic 2: Smoking Cigarettes \\nEnd Margin: Expectation high, I feel like a drone\\n\\nTopic 3: Making Money \\nEnd Margin: Rushin\\' all year like I commit roadkill\\n\\nTopic 4: Relationships \\nEnd Margin: She go, \"Oh-oh-oh-oh, oh-oh, oh-oh, oh\"\\n\\nTopic 5: Life Goals \\nEnd Margin: 2018, I got some new goals\\n\\nTopic 6: Music \\nEnd Margin: Pressin\\' on keys, got my life so sweet man\\n\\nTopic 7: Reactions to Violence \\nEnd Margin: Saw a fist fight and that shit don\\'t even make me scared no more (ayy)\\n\\nTopic 8: Being Alone \\nEnd Margin: Man, I never been the one to be alone (be alone)\\n\\nTopic 9: Drug Use \\nEnd Margin: I don\\'t take drugs, I just take naps\\n\\nTopic 10: Rapping \\nEnd Margin: Rappin\\' on this instrumentals, feelin\\' like a hero\\n\\nTopic 11: Criticism \\nEnd Margin: They wishin\\' I\\'ma fail'"
      ]
     },
     "execution_count": 11,
     "metadata": {},
     "output_type": "execute_result"
    }
   ],
   "source": [
    "prompt = '''Saw a car crash, it remind me of our first date\n",
    "Then I went back, got massages at that one place\n",
    "Always brought friends but today I feel like doin' this shit alone (ayy, ayy)\n",
    "Callin' my dad when I wanna hear some wisdom\n",
    "Callin' my cab alcohol up in my system\n",
    "Saw a fist fight and that shit don't even make me scared no more (ayy)\n",
    "Man, I never been the one to be alone (be alone)\n",
    "All my friends are always hittin' up my phone\n",
    "Every day is spent with everybody, never on my own (on my own)\n",
    "But today I'm by myself and I don't even feel alone (nah)\n",
    "Like to smoke cigs every time I feel the outside\n",
    "Like to play chicks but get mad when they get new guys\n",
    "You don't get me but I don't blame you, I don't get myself (no, ayy)\n",
    "Pressin' on keys, got my life so sweet man\n",
    "GoFundMe on your bitch's pinned Tweet, man\n",
    "Bumpin' oldies as I try to dick her down\n",
    "She said give it to me now, and I can't help but listen\n",
    "She go, \"Oh-oh-oh-oh, oh-oh, oh-oh, oh\"\n",
    "Slippery sign all over my door\n",
    "Show some attitude and bitch I won't show\n",
    "Expectation high, I feel like a drone\n",
    "2018, I got some new goals\n",
    "Not checkin' my statement 'til I got four mill'\n",
    "Rushin' all year like I commit roadkill\n",
    "Killin' everybody like I'm in a wrong deal\n",
    "Do triple checks on every move I make\n",
    "Work 'til I'm tired then sip on some latte\n",
    "Only do shit if we do it my way\n",
    "Everything gon' depend on what I say\n",
    "Three, four\n",
    "Ayy, hold up, wait a second\n",
    "Man, my flow on lethal weapon\n",
    "Hit 'em with the rhymin' pattern\n",
    "Put these rappers under pressure\n",
    "This feel like Armageddon\n",
    "If she witcha I'ma get her\n",
    "Cut you off like Jerry Heller\n",
    "She gon' need another fella, ayy\n",
    "I don't take drugs, I just take naps\n",
    "Find another girl to eat up like I hate snacks\n",
    "Dick gon' make her choke like reflux, gotta relax\n",
    "Man, yo' shit is borin' and it's makin' me go sleep fast\n",
    "And I always care 'bout everybody but myself\n",
    "That's the life of a Virgo, never gettin' mad\n",
    "That's not the Brian that we know\n",
    "I just weighed my heart, it's about 30 kilos\n",
    "I just fucked a lady and she 'bout 30 years old\n",
    "Rappin' on this instrumentals, feelin' like a hero\n",
    "Never usin' triplet flows because I'm not a Migo\n",
    "Only lastin' longer 'cause I'm drunk, I don't think she knows\n",
    "Only thing that matters that my dick is like my ego\n",
    "They wishin' I'ma fail\n",
    "These days, no picnics, ain't no fun and games\n",
    "Still, motherfuckas always got a lot to say\n",
    "Never got love, so they spreadin' all this hate, oh, oh\n",
    "Man they always actin' real tough\n",
    "But I show up for a show and they just wanna leave town\n",
    "People sayin' that my words are colder than the winter\n",
    "It's Brian, not Brita, so I'll never have a filter'''\n",
    "question = '\\n\\n divide this text into topics and show me the end margin for each topic in a key value dictionary'\n",
    "test_question(prompt+question)"
   ]
  },
  {
   "cell_type": "code",
   "execution_count": null,
   "metadata": {},
   "outputs": [],
   "source": []
  }
 ],
 "metadata": {
  "kernelspec": {
   "display_name": "env",
   "language": "python",
   "name": "python3"
  },
  "language_info": {
   "codemirror_mode": {
    "name": "ipython",
    "version": 3
   },
   "file_extension": ".py",
   "mimetype": "text/x-python",
   "name": "python",
   "nbconvert_exporter": "python",
   "pygments_lexer": "ipython3",
   "version": "3.10.2"
  },
  "orig_nbformat": 4,
  "vscode": {
   "interpreter": {
    "hash": "4f4fa1dd9812ef84c6f62fa4d0eb9af974f88682b41fada47f03f45295ccfca9"
   }
  }
 },
 "nbformat": 4,
 "nbformat_minor": 2
}
