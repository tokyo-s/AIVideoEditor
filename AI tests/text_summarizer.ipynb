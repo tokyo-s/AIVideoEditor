{
 "cells": [
  {
   "cell_type": "code",
   "execution_count": 20,
   "metadata": {},
   "outputs": [],
   "source": [
    "import os\n",
    "import openai\n",
    "import config\n",
    "\n",
    "os.environ['OPENAI_API_KEY'] = config.api_key\n",
    "\n",
    "openai.api_key = os.getenv(\"OPENAI_API_KEY\")\n",
    "\n",
    "def test_question(prompt_final):\n",
    "    response = openai.Completion.create(\n",
    "  model=\"text-davinci-003\",\n",
    "  prompt= prompt_final,   #Tl;dr\n",
    "  temperature=0.5,\n",
    "  max_tokens=300,\n",
    "  top_p=1.0,\n",
    "  frequency_penalty=0.0,\n",
    "  presence_penalty=1\n",
    ")\n",
    "    return response['choices'][0]['text']"
   ]
  },
  {
   "cell_type": "code",
   "execution_count": 17,
   "metadata": {},
   "outputs": [
    {
     "ename": "APIError",
     "evalue": "Internal server error {\n    \"error\": {\n        \"message\": \"Internal server error\",\n        \"type\": \"auth_subrequest_error\",\n        \"param\": null,\n        \"code\": \"internal_error\"\n    }\n}\n 500 {'error': {'message': 'Internal server error', 'type': 'auth_subrequest_error', 'param': None, 'code': 'internal_error'}} {'Date': 'Sun, 29 Jan 2023 16:36:09 GMT', 'Content-Type': 'application/json; charset=utf-8', 'Content-Length': '166', 'Connection': 'keep-alive', 'Vary': 'Origin', 'X-Request-Id': '7c4c11d4d47c3349636808ccd22566cb', 'Strict-Transport-Security': 'max-age=15724800; includeSubDomains'}",
     "output_type": "error",
     "traceback": [
      "\u001b[1;31m---------------------------------------------------------------------------\u001b[0m",
      "\u001b[1;31mAPIError\u001b[0m                                  Traceback (most recent call last)",
      "Cell \u001b[1;32mIn[17], line 61\u001b[0m\n\u001b[0;32m      1\u001b[0m prompt \u001b[39m=\u001b[39m \u001b[39m'''\u001b[39m\u001b[39mSaw a car crash, it remind me of our first date\u001b[39m\n\u001b[0;32m      2\u001b[0m \u001b[39mThen I went back, got massages at that one place\u001b[39m\n\u001b[0;32m      3\u001b[0m \u001b[39mAlways brought friends but today I feel like doin\u001b[39m\u001b[39m'\u001b[39m\u001b[39m this shit alone (ayy, ayy)\u001b[39m\n\u001b[1;32m   (...)\u001b[0m\n\u001b[0;32m     58\u001b[0m \u001b[39mPeople sayin\u001b[39m\u001b[39m'\u001b[39m\u001b[39m that my words are colder than the winter\u001b[39m\n\u001b[0;32m     59\u001b[0m \u001b[39mIt\u001b[39m\u001b[39m'\u001b[39m\u001b[39ms Brian, not Brita, so I\u001b[39m\u001b[39m'\u001b[39m\u001b[39mll never have a filter\u001b[39m\u001b[39m'''\u001b[39m\n\u001b[0;32m     60\u001b[0m question \u001b[39m=\u001b[39m \u001b[39m'\u001b[39m\u001b[39m\\n\u001b[39;00m\u001b[39m\\n\u001b[39;00m\u001b[39m write this text as a newsletter\u001b[39m\u001b[39m'\u001b[39m\n\u001b[1;32m---> 61\u001b[0m test_question(prompt\u001b[39m+\u001b[39;49mquestion)\n",
      "Cell \u001b[1;32mIn[16], line 9\u001b[0m, in \u001b[0;36mtest_question\u001b[1;34m(prompt_final)\u001b[0m\n\u001b[0;32m      8\u001b[0m \u001b[39mdef\u001b[39;00m \u001b[39mtest_question\u001b[39m(prompt_final):\n\u001b[1;32m----> 9\u001b[0m     response \u001b[39m=\u001b[39m openai\u001b[39m.\u001b[39;49mCompletion\u001b[39m.\u001b[39;49mcreate(\n\u001b[0;32m     10\u001b[0m   model\u001b[39m=\u001b[39;49m\u001b[39m\"\u001b[39;49m\u001b[39mtext-davinci-003\u001b[39;49m\u001b[39m\"\u001b[39;49m,\n\u001b[0;32m     11\u001b[0m   prompt\u001b[39m=\u001b[39;49m prompt_final,   \u001b[39m#Tl;dr\u001b[39;49;00m\n\u001b[0;32m     12\u001b[0m   temperature\u001b[39m=\u001b[39;49m\u001b[39m0.5\u001b[39;49m,\n\u001b[0;32m     13\u001b[0m   max_tokens\u001b[39m=\u001b[39;49m\u001b[39m300\u001b[39;49m,\n\u001b[0;32m     14\u001b[0m   top_p\u001b[39m=\u001b[39;49m\u001b[39m1.0\u001b[39;49m,\n\u001b[0;32m     15\u001b[0m   frequency_penalty\u001b[39m=\u001b[39;49m\u001b[39m0.0\u001b[39;49m,\n\u001b[0;32m     16\u001b[0m   presence_penalty\u001b[39m=\u001b[39;49m\u001b[39m1\u001b[39;49m\n\u001b[0;32m     17\u001b[0m )\n\u001b[0;32m     18\u001b[0m     \u001b[39mreturn\u001b[39;00m response[\u001b[39m'\u001b[39m\u001b[39mchoices\u001b[39m\u001b[39m'\u001b[39m][\u001b[39m0\u001b[39m][\u001b[39m'\u001b[39m\u001b[39mtext\u001b[39m\u001b[39m'\u001b[39m]\n",
      "File \u001b[1;32md:\\programming\\ML\\univer\\TEZA\\env\\lib\\site-packages\\openai\\api_resources\\completion.py:25\u001b[0m, in \u001b[0;36mCompletion.create\u001b[1;34m(cls, *args, **kwargs)\u001b[0m\n\u001b[0;32m     23\u001b[0m \u001b[39mwhile\u001b[39;00m \u001b[39mTrue\u001b[39;00m:\n\u001b[0;32m     24\u001b[0m     \u001b[39mtry\u001b[39;00m:\n\u001b[1;32m---> 25\u001b[0m         \u001b[39mreturn\u001b[39;00m \u001b[39msuper\u001b[39m()\u001b[39m.\u001b[39mcreate(\u001b[39m*\u001b[39margs, \u001b[39m*\u001b[39m\u001b[39m*\u001b[39mkwargs)\n\u001b[0;32m     26\u001b[0m     \u001b[39mexcept\u001b[39;00m TryAgain \u001b[39mas\u001b[39;00m e:\n\u001b[0;32m     27\u001b[0m         \u001b[39mif\u001b[39;00m timeout \u001b[39mis\u001b[39;00m \u001b[39mnot\u001b[39;00m \u001b[39mNone\u001b[39;00m \u001b[39mand\u001b[39;00m time\u001b[39m.\u001b[39mtime() \u001b[39m>\u001b[39m start \u001b[39m+\u001b[39m timeout:\n",
      "File \u001b[1;32md:\\programming\\ML\\univer\\TEZA\\env\\lib\\site-packages\\openai\\api_resources\\abstract\\engine_api_resource.py:153\u001b[0m, in \u001b[0;36mEngineAPIResource.create\u001b[1;34m(cls, api_key, api_base, api_type, request_id, api_version, organization, **params)\u001b[0m\n\u001b[0;32m    127\u001b[0m \u001b[39m@classmethod\u001b[39m\n\u001b[0;32m    128\u001b[0m \u001b[39mdef\u001b[39;00m \u001b[39mcreate\u001b[39m(\n\u001b[0;32m    129\u001b[0m     \u001b[39mcls\u001b[39m,\n\u001b[1;32m   (...)\u001b[0m\n\u001b[0;32m    136\u001b[0m     \u001b[39m*\u001b[39m\u001b[39m*\u001b[39mparams,\n\u001b[0;32m    137\u001b[0m ):\n\u001b[0;32m    138\u001b[0m     (\n\u001b[0;32m    139\u001b[0m         deployment_id,\n\u001b[0;32m    140\u001b[0m         engine,\n\u001b[1;32m   (...)\u001b[0m\n\u001b[0;32m    150\u001b[0m         api_key, api_base, api_type, api_version, organization, \u001b[39m*\u001b[39m\u001b[39m*\u001b[39mparams\n\u001b[0;32m    151\u001b[0m     )\n\u001b[1;32m--> 153\u001b[0m     response, _, api_key \u001b[39m=\u001b[39m requestor\u001b[39m.\u001b[39;49mrequest(\n\u001b[0;32m    154\u001b[0m         \u001b[39m\"\u001b[39;49m\u001b[39mpost\u001b[39;49m\u001b[39m\"\u001b[39;49m,\n\u001b[0;32m    155\u001b[0m         url,\n\u001b[0;32m    156\u001b[0m         params\u001b[39m=\u001b[39;49mparams,\n\u001b[0;32m    157\u001b[0m         headers\u001b[39m=\u001b[39;49mheaders,\n\u001b[0;32m    158\u001b[0m         stream\u001b[39m=\u001b[39;49mstream,\n\u001b[0;32m    159\u001b[0m         request_id\u001b[39m=\u001b[39;49mrequest_id,\n\u001b[0;32m    160\u001b[0m         request_timeout\u001b[39m=\u001b[39;49mrequest_timeout,\n\u001b[0;32m    161\u001b[0m     )\n\u001b[0;32m    163\u001b[0m     \u001b[39mif\u001b[39;00m stream:\n\u001b[0;32m    164\u001b[0m         \u001b[39m# must be an iterator\u001b[39;00m\n\u001b[0;32m    165\u001b[0m         \u001b[39massert\u001b[39;00m \u001b[39mnot\u001b[39;00m \u001b[39misinstance\u001b[39m(response, OpenAIResponse)\n",
      "File \u001b[1;32md:\\programming\\ML\\univer\\TEZA\\env\\lib\\site-packages\\openai\\api_requestor.py:227\u001b[0m, in \u001b[0;36mAPIRequestor.request\u001b[1;34m(self, method, url, params, headers, files, stream, request_id, request_timeout)\u001b[0m\n\u001b[0;32m    206\u001b[0m \u001b[39mdef\u001b[39;00m \u001b[39mrequest\u001b[39m(\n\u001b[0;32m    207\u001b[0m     \u001b[39mself\u001b[39m,\n\u001b[0;32m    208\u001b[0m     method,\n\u001b[1;32m   (...)\u001b[0m\n\u001b[0;32m    215\u001b[0m     request_timeout: Optional[Union[\u001b[39mfloat\u001b[39m, Tuple[\u001b[39mfloat\u001b[39m, \u001b[39mfloat\u001b[39m]]] \u001b[39m=\u001b[39m \u001b[39mNone\u001b[39;00m,\n\u001b[0;32m    216\u001b[0m ) \u001b[39m-\u001b[39m\u001b[39m>\u001b[39m Tuple[Union[OpenAIResponse, Iterator[OpenAIResponse]], \u001b[39mbool\u001b[39m, \u001b[39mstr\u001b[39m]:\n\u001b[0;32m    217\u001b[0m     result \u001b[39m=\u001b[39m \u001b[39mself\u001b[39m\u001b[39m.\u001b[39mrequest_raw(\n\u001b[0;32m    218\u001b[0m         method\u001b[39m.\u001b[39mlower(),\n\u001b[0;32m    219\u001b[0m         url,\n\u001b[1;32m   (...)\u001b[0m\n\u001b[0;32m    225\u001b[0m         request_timeout\u001b[39m=\u001b[39mrequest_timeout,\n\u001b[0;32m    226\u001b[0m     )\n\u001b[1;32m--> 227\u001b[0m     resp, got_stream \u001b[39m=\u001b[39m \u001b[39mself\u001b[39;49m\u001b[39m.\u001b[39;49m_interpret_response(result, stream)\n\u001b[0;32m    228\u001b[0m     \u001b[39mreturn\u001b[39;00m resp, got_stream, \u001b[39mself\u001b[39m\u001b[39m.\u001b[39mapi_key\n",
      "File \u001b[1;32md:\\programming\\ML\\univer\\TEZA\\env\\lib\\site-packages\\openai\\api_requestor.py:620\u001b[0m, in \u001b[0;36mAPIRequestor._interpret_response\u001b[1;34m(self, result, stream)\u001b[0m\n\u001b[0;32m    612\u001b[0m     \u001b[39mreturn\u001b[39;00m (\n\u001b[0;32m    613\u001b[0m         \u001b[39mself\u001b[39m\u001b[39m.\u001b[39m_interpret_response_line(\n\u001b[0;32m    614\u001b[0m             line, result\u001b[39m.\u001b[39mstatus_code, result\u001b[39m.\u001b[39mheaders, stream\u001b[39m=\u001b[39m\u001b[39mTrue\u001b[39;00m\n\u001b[0;32m    615\u001b[0m         )\n\u001b[0;32m    616\u001b[0m         \u001b[39mfor\u001b[39;00m line \u001b[39min\u001b[39;00m parse_stream(result\u001b[39m.\u001b[39miter_lines())\n\u001b[0;32m    617\u001b[0m     ), \u001b[39mTrue\u001b[39;00m\n\u001b[0;32m    618\u001b[0m \u001b[39melse\u001b[39;00m:\n\u001b[0;32m    619\u001b[0m     \u001b[39mreturn\u001b[39;00m (\n\u001b[1;32m--> 620\u001b[0m         \u001b[39mself\u001b[39;49m\u001b[39m.\u001b[39;49m_interpret_response_line(\n\u001b[0;32m    621\u001b[0m             result\u001b[39m.\u001b[39;49mcontent\u001b[39m.\u001b[39;49mdecode(\u001b[39m\"\u001b[39;49m\u001b[39mutf-8\u001b[39;49m\u001b[39m\"\u001b[39;49m),\n\u001b[0;32m    622\u001b[0m             result\u001b[39m.\u001b[39;49mstatus_code,\n\u001b[0;32m    623\u001b[0m             result\u001b[39m.\u001b[39;49mheaders,\n\u001b[0;32m    624\u001b[0m             stream\u001b[39m=\u001b[39;49m\u001b[39mFalse\u001b[39;49;00m,\n\u001b[0;32m    625\u001b[0m         ),\n\u001b[0;32m    626\u001b[0m         \u001b[39mFalse\u001b[39;00m,\n\u001b[0;32m    627\u001b[0m     )\n",
      "File \u001b[1;32md:\\programming\\ML\\univer\\TEZA\\env\\lib\\site-packages\\openai\\api_requestor.py:680\u001b[0m, in \u001b[0;36mAPIRequestor._interpret_response_line\u001b[1;34m(self, rbody, rcode, rheaders, stream)\u001b[0m\n\u001b[0;32m    678\u001b[0m stream_error \u001b[39m=\u001b[39m stream \u001b[39mand\u001b[39;00m \u001b[39m\"\u001b[39m\u001b[39merror\u001b[39m\u001b[39m\"\u001b[39m \u001b[39min\u001b[39;00m resp\u001b[39m.\u001b[39mdata\n\u001b[0;32m    679\u001b[0m \u001b[39mif\u001b[39;00m stream_error \u001b[39mor\u001b[39;00m \u001b[39mnot\u001b[39;00m \u001b[39m200\u001b[39m \u001b[39m<\u001b[39m\u001b[39m=\u001b[39m rcode \u001b[39m<\u001b[39m \u001b[39m300\u001b[39m:\n\u001b[1;32m--> 680\u001b[0m     \u001b[39mraise\u001b[39;00m \u001b[39mself\u001b[39m\u001b[39m.\u001b[39mhandle_error_response(\n\u001b[0;32m    681\u001b[0m         rbody, rcode, resp\u001b[39m.\u001b[39mdata, rheaders, stream_error\u001b[39m=\u001b[39mstream_error\n\u001b[0;32m    682\u001b[0m     )\n\u001b[0;32m    683\u001b[0m \u001b[39mreturn\u001b[39;00m resp\n",
      "\u001b[1;31mAPIError\u001b[0m: Internal server error {\n    \"error\": {\n        \"message\": \"Internal server error\",\n        \"type\": \"auth_subrequest_error\",\n        \"param\": null,\n        \"code\": \"internal_error\"\n    }\n}\n 500 {'error': {'message': 'Internal server error', 'type': 'auth_subrequest_error', 'param': None, 'code': 'internal_error'}} {'Date': 'Sun, 29 Jan 2023 16:36:09 GMT', 'Content-Type': 'application/json; charset=utf-8', 'Content-Length': '166', 'Connection': 'keep-alive', 'Vary': 'Origin', 'X-Request-Id': '7c4c11d4d47c3349636808ccd22566cb', 'Strict-Transport-Security': 'max-age=15724800; includeSubDomains'}"
     ]
    }
   ],
   "source": [
    "prompt = '''Saw a car crash, it remind me of our first date\n",
    "Then I went back, got massages at that one place\n",
    "Always brought friends but today I feel like doin' this shit alone (ayy, ayy)\n",
    "Callin' my dad when I wanna hear some wisdom\n",
    "Callin' my cab alcohol up in my system\n",
    "Saw a fist fight and that shit don't even make me scared no more (ayy)\n",
    "Man, I never been the one to be alone (be alone)\n",
    "All my friends are always hittin' up my phone\n",
    "Every day is spent with everybody, never on my own (on my own)\n",
    "But today I'm by myself and I don't even feel alone (nah)\n",
    "Like to smoke cigs every time I feel the outside\n",
    "Like to play chicks but get mad when they get new guys\n",
    "You don't get me but I don't blame you, I don't get myself (no, ayy)\n",
    "Pressin' on keys, got my life so sweet man\n",
    "GoFundMe on your bitch's pinned Tweet, man\n",
    "Bumpin' oldies as I try to dick her down\n",
    "She said give it to me now, and I can't help but listen\n",
    "She go, \"Oh-oh-oh-oh, oh-oh, oh-oh, oh\"\n",
    "Slippery sign all over my door\n",
    "Show some attitude and bitch I won't show\n",
    "Expectation high, I feel like a drone\n",
    "2018, I got some new goals\n",
    "Not checkin' my statement 'til I got four mill'\n",
    "Rushin' all year like I commit roadkill\n",
    "Killin' everybody like I'm in a wrong deal\n",
    "Do triple checks on every move I make\n",
    "Work 'til I'm tired then sip on some latte\n",
    "Only do shit if we do it my way\n",
    "Everything gon' depend on what I say\n",
    "Three, four\n",
    "Ayy, hold up, wait a second\n",
    "Man, my flow on lethal weapon\n",
    "Hit 'em with the rhymin' pattern\n",
    "Put these rappers under pressure\n",
    "This feel like Armageddon\n",
    "If she witcha I'ma get her\n",
    "Cut you off like Jerry Heller\n",
    "She gon' need another fella, ayy\n",
    "I don't take drugs, I just take naps\n",
    "Find another girl to eat up like I hate snacks\n",
    "Dick gon' make her choke like reflux, gotta relax\n",
    "Man, yo' shit is borin' and it's makin' me go sleep fast\n",
    "And I always care 'bout everybody but myself\n",
    "That's the life of a Virgo, never gettin' mad\n",
    "That's not the Brian that we know\n",
    "I just weighed my heart, it's about 30 kilos\n",
    "I just fucked a lady and she 'bout 30 years old\n",
    "Rappin' on this instrumentals, feelin' like a hero\n",
    "Never usin' triplet flows because I'm not a Migo\n",
    "Only lastin' longer 'cause I'm drunk, I don't think she knows\n",
    "Only thing that matters that my dick is like my ego\n",
    "They wishin' I'ma fail\n",
    "These days, no picnics, ain't no fun and games\n",
    "Still, motherfuckas always got a lot to say\n",
    "Never got love, so they spreadin' all this hate, oh, oh\n",
    "Man they always actin' real tough\n",
    "But I show up for a show and they just wanna leave town\n",
    "People sayin' that my words are colder than the winter\n",
    "It's Brian, not Brita, so I'll never have a filter'''\n",
    "question = '\\n\\n write this text as a newsletter'\n",
    "test_question(prompt+question)"
   ]
  },
  {
   "cell_type": "code",
   "execution_count": null,
   "metadata": {},
   "outputs": [],
   "source": []
  }
 ],
 "metadata": {
  "kernelspec": {
   "display_name": "env",
   "language": "python",
   "name": "python3"
  },
  "language_info": {
   "codemirror_mode": {
    "name": "ipython",
    "version": 3
   },
   "file_extension": ".py",
   "mimetype": "text/x-python",
   "name": "python",
   "nbconvert_exporter": "python",
   "pygments_lexer": "ipython3",
   "version": "3.10.2"
  },
  "orig_nbformat": 4,
  "vscode": {
   "interpreter": {
    "hash": "4f4fa1dd9812ef84c6f62fa4d0eb9af974f88682b41fada47f03f45295ccfca9"
   }
  }
 },
 "nbformat": 4,
 "nbformat_minor": 2
}
