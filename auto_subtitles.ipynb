{
 "cells": [
  {
   "cell_type": "code",
   "execution_count": null,
   "metadata": {},
   "outputs": [],
   "source": [
    "# pip install --upgrade --no-deps --force-reinstall git+https://github.com/openai/whisper.git"
   ]
  },
  {
   "cell_type": "code",
   "execution_count": null,
   "metadata": {},
   "outputs": [],
   "source": [
    "#ffmpeg??????????????"
   ]
  },
  {
   "cell_type": "code",
   "execution_count": 13,
   "metadata": {},
   "outputs": [
    {
     "name": "stderr",
     "output_type": "stream",
     "text": [
      "d:\\programming\\ML\\univer\\TEZA\\env\\lib\\site-packages\\whisper\\__init__.py:48: UserWarning: C:\\Users\\vova\\.cache\\whisper\\large-v2.pt exists, but the SHA256 checksum does not match; re-downloading the file\n",
      "  warnings.warn(f\"{download_target} exists, but the SHA256 checksum does not match; re-downloading the file\")\n",
      "100%|█████████████████████████████████████| 2.87G/2.87G [02:22<00:00, 21.7MiB/s]\n"
     ]
    },
    {
     "name": "stdout",
     "output_type": "stream",
     "text": [
      " Personajul narator din franceza Drazen tipologia conservatorului posturile din jurul sau se schimbă din ce cauza de ce aici că trebuia să predea ca asa unul mă simțeam bine aici eram singură eram lăsat în pace se întoarce ca sa părintească când era bine asa cu plăcere să am o cameră la mama a caut a caracterizare personajului datorită negarea unul care nu pot spune despre mine că sunt prea gras prin autoevaluarea comportamentului sau diamantele caracterului cum ar fi cea mai de jos pizerie vijelie fizică mers piedica și viziunea morală întrebare retorică la ce bun toată ziua toată vieța anoratorului a este foarte dureros pentru personaj din ce cauza sincer puțin nu știu cu ce voia dacă e această singurătate nu vrea să citească vitrinele de casă din cauza nu vreau totuși să zic ca suprapărerii garsonieri a si sublineate din fragmentul circuitul astăzi mai mult decât mai mult decât oricând ci că maturitate personajului prin care concert ale vieții\n"
     ]
    }
   ],
   "source": [
    "import whisper\n",
    "\n",
    "model = whisper.load_model(\"large\")\n",
    "result = model.transcribe(\"data/audio versiunea 1.mp3\")\n",
    "print(result[\"text\"])"
   ]
  },
  {
   "cell_type": "code",
   "execution_count": null,
   "metadata": {},
   "outputs": [],
   "source": [
    "import whisper\n",
    "\n",
    "MODEL_WHISPER_SIZE = \"large\"\n",
    "\n",
    "model = whisper.load_model(MODEL_WHISPER_SIZE)\n",
    "\n",
    "def audio_to_text(audio_file):\n",
    "    audio = whisper.load_audio(audio_file)\n",
    "    audio = whisper.pad_or_trim(audio)\n",
    "    mel = whisper.log_mel_spectrogram(audio).to(model.device)\n",
    "    _, probs = model.detect_language(mel)\n",
    "\n",
    "    detected_language = max(probs, key=probs.get)\n",
    "    result = model.transcribe(audio_file)\n",
    "    text = result[\"text\"]\n",
    "    return detected_language, text"
   ]
  }
 ],
 "metadata": {
  "kernelspec": {
   "display_name": "env",
   "language": "python",
   "name": "python3"
  },
  "language_info": {
   "codemirror_mode": {
    "name": "ipython",
    "version": 3
   },
   "file_extension": ".py",
   "mimetype": "text/x-python",
   "name": "python",
   "nbconvert_exporter": "python",
   "pygments_lexer": "ipython3",
   "version": "3.10.2"
  },
  "orig_nbformat": 4,
  "vscode": {
   "interpreter": {
    "hash": "4f4fa1dd9812ef84c6f62fa4d0eb9af974f88682b41fada47f03f45295ccfca9"
   }
  }
 },
 "nbformat": 4,
 "nbformat_minor": 2
}
